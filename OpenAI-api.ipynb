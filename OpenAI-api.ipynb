{
 "cells": [
  {
   "cell_type": "markdown",
   "source": [
    "Load my api key"
   ],
   "metadata": {
    "collapsed": false
   }
  },
  {
   "cell_type": "code",
   "execution_count": 3,
   "metadata": {
    "collapsed": true
   },
   "outputs": [],
   "source": [
    "import json\n",
    "# Specify the path to your JSON file\n",
    "filename = \"example.json\"  # Replace this with the actual file path\n",
    "# Load the data from the JSON file\n",
    "with open(filename, 'r') as file:\n",
    "    data = json.load(file)\n",
    "# Access the secret_key value\n",
    "secret_key = data['secret_key']"
   ]
  },
  {
   "cell_type": "code",
   "execution_count": null,
   "outputs": [],
   "source": [],
   "metadata": {
    "collapsed": false
   }
  }
 ],
 "metadata": {
  "kernelspec": {
   "display_name": "Python 3",
   "language": "python",
   "name": "python3"
  },
  "language_info": {
   "codemirror_mode": {
    "name": "ipython",
    "version": 2
   },
   "file_extension": ".py",
   "mimetype": "text/x-python",
   "name": "python",
   "nbconvert_exporter": "python",
   "pygments_lexer": "ipython2",
   "version": "2.7.6"
  }
 },
 "nbformat": 4,
 "nbformat_minor": 0
}
