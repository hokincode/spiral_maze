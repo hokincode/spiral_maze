{
 "cells": [
  {
   "cell_type": "markdown",
   "source": [
    "Load my api key"
   ],
   "metadata": {
    "collapsed": false
   }
  },
  {
   "cell_type": "code",
   "execution_count": 3,
   "metadata": {
    "collapsed": true
   },
   "outputs": [],
   "source": [
    "import json\n",
    "# Specify the path to your JSON file\n",
    "filename = \"example.json\"  # Replace this with the actual file path\n",
    "# Load the data from the JSON file\n",
    "with open(filename, 'r') as file:\n",
    "    data = json.load(file)\n",
    "# Access the secret_key value\n",
    "secret_key = data['secret_key']"
   ]
  },
  {
   "cell_type": "markdown",
   "source": [
    "Load OpenAI"
   ],
   "metadata": {
    "collapsed": false
   }
  },
  {
   "cell_type": "code",
   "execution_count": 4,
   "outputs": [],
   "source": [
    "from openai import OpenAI\n",
    "import json"
   ],
   "metadata": {
    "collapsed": false
   }
  },
  {
   "cell_type": "code",
   "execution_count": 5,
   "outputs": [],
   "source": [
    "pilot = OpenAI(api_key=secret_key)"
   ],
   "metadata": {
    "collapsed": false
   }
  },
  {
   "cell_type": "code",
   "execution_count": 6,
   "outputs": [
    {
     "name": "stdout",
     "output_type": "stream",
     "text": [
      "{\n",
      "    \"id\": \"chatcmpl-98xORWcQvgSOQwJlEUPd2Ug401V2J\",\n",
      "    \"choices\": [\n",
      "        {\n",
      "            \"finish_reason\": \"stop\",\n",
      "            \"index\": 0,\n",
      "            \"logprobs\": null,\n",
      "            \"message\": {\n",
      "                \"content\": \"Creating a spiraling maze game in a Jupyter notebook involves several steps, such as generating the maze, displaying it, and coding the agent's movements. For simplicity, let's create a textual representation of a spiral maze and allow the agent to move through it using keyboard inputs. We will use basic Python libraries like `numpy` for managing the maze's grid and `ipywidgets` and `IPython.display` to interact with the maze in the Jupyter notebook.\\n\\nPlease ensure you have the necessary libraries installed in your environment. You can install them using pip:\\n\\n```bash\\npip install numpy ipywidgets\\n```\\n\\nOnce you have the necessary libraries, let's start by creating the game.\\n\\n1. **Creating the Maze Structure**: We'll define a function to create a simple spiraling maze pattern. The maze is going to be simplistic, with paths spiraling outwards from the center.\\n\\n2. **Displaying the Maze**: We'll use a text-based representation to display the maze.\\n\\n3. **Moving the Agent**: We will create functions to move the agent and update the maze display accordingly.\\n\\n4. **Interactivity**: We'll use `ipywidgets` to capture keyboard inputs for moving the agent in the maze.\\n\\nBelow is an example code that puts these steps together to create a basic spiral maze game in a Jupyter notebook.\\n\\n```python\\nimport numpy as np\\nfrom IPython.display import clear_output\\nfrom ipywidgets import interact_manual\\n\\n# Create a simple spiral maze\\ndef create_maze(size=21):\\n    maze = np.zeros((size, size), dtype=np.int)\\n    directions = [(0,1), (1,0), (0,-1), (-1,0)]  # Right, down, left, up\\n    current_direction = 0\\n    x, y = size // 2, size // 2\\n    steps = 1\\n    step_change = 0\\n    while x >= 0 and x < size and y >= 0 and y < size:\\n        for _ in range(steps):\\n            if x >= 0 and x < size and y >= 0 and y < size:\\n                maze[y, x] = 1\\n            x += directions[current_direction][0]\\n            y += directions[current_direction][1]\\n        current_direction = (current_direction + 1) % 4\\n        step_change += 1\\n        if step_change == 2:\\n            step_change = 0\\n            steps += 1\\n    maze[size // 2, size // 2] = 2  # Mark the starting position of the agent\\n    return maze\\n\\n# Display the maze\\ndef display_maze(maze):\\n    display_dict = {0: '\\ud83d\\udfe9', 1: '\\u2b1c\\ufe0f', 2: '\\ud83d\\udd34'}  # wall, path, agent\\n    for row in maze:\\n        print(' '.join(display_dict[val] for val in row))\\n\\n# Move the agent\\ndef move_agent(maze, direction):\\n    y, x = np.where(maze == 2)\\n    y, x = y[0], x[0]\\n    maze[y, x] = 1  # Remove the agent from the current position\\n    if direction == 'up' and maze[y-1, x] == 1:\\n        y -= 1\\n    elif direction == 'down' and maze[y+1, x] == 1:\\n        y += 1\\n    elif direction == 'left' and maze[y, x-1] == 1:\\n        x -= 1\\n    elif direction == 'right' and maze[y, x+1] == 1:\\n        x += 1\\n    maze[y, x] = 2  # Place the agent to the new position\\n    return maze\\n\\n# Main game function\\ndef play_game(maze, direction):\\n    clear_output(wait=True)\\n    new_maze = move_agent(maze, direction)\\n    display_maze(new_maze)\\n    return new_maze\\n\\n# Initialize the game\\ninitial_maze = create_maze(21)\\ndisplay_maze(initial_maze)\\n\\n# Setup the interaction - manually, for simplicity\\n@interact_manual(direction=['up', 'down', 'left', 'right'])\\ndef get_move(direction):\\n    global initial_maze\\n    initial_maze = play_game(initial_maze, direction)\\n```\\n\\nThis code defines a basic spiraling maze game. Paste the code into a Jupyter notebook cell and run it. You will see the initial state of the maze, with an agent (`\\ud83d\\udd34`) at the center. Below the maze, there's an interactive widget that lets you choose a direction and manually trigger the agent's move.\\n\\nNote that this implementation is quite basic and can be significantly enhanced or altered as needed. For example, better pathfinding algorithms could be implemented for the agent, or graphical displays could be used for a more visually appealing maze game.\",\n",
      "                \"role\": \"assistant\",\n",
      "                \"function_call\": null,\n",
      "                \"tool_calls\": null\n",
      "            }\n",
      "        }\n",
      "    ],\n",
      "    \"created\": 1711921959,\n",
      "    \"model\": \"gpt-4-0125-preview\",\n",
      "    \"object\": \"chat.completion\",\n",
      "    \"system_fingerprint\": \"fp_a865e8ede4\",\n",
      "    \"usage\": {\n",
      "        \"completion_tokens\": 1021,\n",
      "        \"prompt_tokens\": 42,\n",
      "        \"total_tokens\": 1063\n",
      "    }\n",
      "}\n"
     ]
    }
   ],
   "source": [
    "completion = pilot.chat.completions.create(\n",
    "  model=\"gpt-4-turbo-preview\",\n",
    "  messages=[\n",
    "    {\"role\": \"system\", \"content\": \"Create a spiral maze game in jupyter notebook. There is an agent in the center of the maze, and the agent needs to make move to get out of the maze.\"},\n",
    "  ]\n",
    ")\n",
    "\n",
    "print(json.dumps(json.loads(completion.model_dump_json()), indent=4))"
   ],
   "metadata": {
    "collapsed": false
   }
  },
  {
   "cell_type": "code",
   "execution_count": 7,
   "outputs": [
    {
     "name": "stdout",
     "output_type": "stream",
     "text": [
      "Creating a spiraling maze game in a Jupyter notebook involves several steps, such as generating the maze, displaying it, and coding the agent's movements. For simplicity, let's create a textual representation of a spiral maze and allow the agent to move through it using keyboard inputs. We will use basic Python libraries like `numpy` for managing the maze's grid and `ipywidgets` and `IPython.display` to interact with the maze in the Jupyter notebook.\n",
      "\n",
      "Please ensure you have the necessary libraries installed in your environment. You can install them using pip:\n",
      "\n",
      "```bash\n",
      "pip install numpy ipywidgets\n",
      "```\n",
      "\n",
      "Once you have the necessary libraries, let's start by creating the game.\n",
      "\n",
      "1. **Creating the Maze Structure**: We'll define a function to create a simple spiraling maze pattern. The maze is going to be simplistic, with paths spiraling outwards from the center.\n",
      "\n",
      "2. **Displaying the Maze**: We'll use a text-based representation to display the maze.\n",
      "\n",
      "3. **Moving the Agent**: We will create functions to move the agent and update the maze display accordingly.\n",
      "\n",
      "4. **Interactivity**: We'll use `ipywidgets` to capture keyboard inputs for moving the agent in the maze.\n",
      "\n",
      "Below is an example code that puts these steps together to create a basic spiral maze game in a Jupyter notebook.\n",
      "\n",
      "```python\n",
      "import numpy as np\n",
      "from IPython.display import clear_output\n",
      "from ipywidgets import interact_manual\n",
      "\n",
      "# Create a simple spiral maze\n",
      "def create_maze(size=21):\n",
      "    maze = np.zeros((size, size), dtype=np.int)\n",
      "    directions = [(0,1), (1,0), (0,-1), (-1,0)]  # Right, down, left, up\n",
      "    current_direction = 0\n",
      "    x, y = size // 2, size // 2\n",
      "    steps = 1\n",
      "    step_change = 0\n",
      "    while x >= 0 and x < size and y >= 0 and y < size:\n",
      "        for _ in range(steps):\n",
      "            if x >= 0 and x < size and y >= 0 and y < size:\n",
      "                maze[y, x] = 1\n",
      "            x += directions[current_direction][0]\n",
      "            y += directions[current_direction][1]\n",
      "        current_direction = (current_direction + 1) % 4\n",
      "        step_change += 1\n",
      "        if step_change == 2:\n",
      "            step_change = 0\n",
      "            steps += 1\n",
      "    maze[size // 2, size // 2] = 2  # Mark the starting position of the agent\n",
      "    return maze\n",
      "\n",
      "# Display the maze\n",
      "def display_maze(maze):\n",
      "    display_dict = {0: '🟩', 1: '⬜️', 2: '🔴'}  # wall, path, agent\n",
      "    for row in maze:\n",
      "        print(' '.join(display_dict[val] for val in row))\n",
      "\n",
      "# Move the agent\n",
      "def move_agent(maze, direction):\n",
      "    y, x = np.where(maze == 2)\n",
      "    y, x = y[0], x[0]\n",
      "    maze[y, x] = 1  # Remove the agent from the current position\n",
      "    if direction == 'up' and maze[y-1, x] == 1:\n",
      "        y -= 1\n",
      "    elif direction == 'down' and maze[y+1, x] == 1:\n",
      "        y += 1\n",
      "    elif direction == 'left' and maze[y, x-1] == 1:\n",
      "        x -= 1\n",
      "    elif direction == 'right' and maze[y, x+1] == 1:\n",
      "        x += 1\n",
      "    maze[y, x] = 2  # Place the agent to the new position\n",
      "    return maze\n",
      "\n",
      "# Main game function\n",
      "def play_game(maze, direction):\n",
      "    clear_output(wait=True)\n",
      "    new_maze = move_agent(maze, direction)\n",
      "    display_maze(new_maze)\n",
      "    return new_maze\n",
      "\n",
      "# Initialize the game\n",
      "initial_maze = create_maze(21)\n",
      "display_maze(initial_maze)\n",
      "\n",
      "# Setup the interaction - manually, for simplicity\n",
      "@interact_manual(direction=['up', 'down', 'left', 'right'])\n",
      "def get_move(direction):\n",
      "    global initial_maze\n",
      "    initial_maze = play_game(initial_maze, direction)\n",
      "```\n",
      "\n",
      "This code defines a basic spiraling maze game. Paste the code into a Jupyter notebook cell and run it. You will see the initial state of the maze, with an agent (`🔴`) at the center. Below the maze, there's an interactive widget that lets you choose a direction and manually trigger the agent's move.\n",
      "\n",
      "Note that this implementation is quite basic and can be significantly enhanced or altered as needed. For example, better pathfinding algorithms could be implemented for the agent, or graphical displays could be used for a more visually appealing maze game.\n"
     ]
    }
   ],
   "source": [
    "content = completion.choices[0].message.content\n",
    "\n",
    "print(content)"
   ],
   "metadata": {
    "collapsed": false
   }
  },
  {
   "cell_type": "code",
   "execution_count": null,
   "outputs": [],
   "source": [],
   "metadata": {
    "collapsed": false
   }
  }
 ],
 "metadata": {
  "kernelspec": {
   "display_name": "Python 3",
   "language": "python",
   "name": "python3"
  },
  "language_info": {
   "codemirror_mode": {
    "name": "ipython",
    "version": 2
   },
   "file_extension": ".py",
   "mimetype": "text/x-python",
   "name": "python",
   "nbconvert_exporter": "python",
   "pygments_lexer": "ipython2",
   "version": "2.7.6"
  }
 },
 "nbformat": 4,
 "nbformat_minor": 0
}
