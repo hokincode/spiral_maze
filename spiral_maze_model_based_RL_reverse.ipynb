{
 "cells": [
  {
   "cell_type": "code",
   "execution_count": 20,
   "metadata": {
    "collapsed": true
   },
   "outputs": [],
   "source": [
    "import matplotlib.pyplot as plt\n",
    "import numpy as np"
   ]
  },
  {
   "cell_type": "code",
   "execution_count": 21,
   "outputs": [],
   "source": [
    "class MazeGame:\n",
    "    def __init__(self):\n",
    "        maze_layout = [[1, 1, 1, 1, 1, 1, 1],\n",
    "               [1, 0, 0, 0, 0, 0, 1],\n",
    "               [1, 0, 1, 1, 1, 0, 1],\n",
    "               [1, 0, 1, 0, 0, 0, 1],\n",
    "               [1, 0, 1, 1, 1, 1, 1],\n",
    "               [1, 0, 0, 0, 0, 0, 0],\n",
    "               [1, 1, 1, 1, 1, 1, 1]]\n",
    "        \"\"\"Initialize the maze game with a given layout.\"\"\"\n",
    "        self.layout = np.array(maze_layout)\n",
    "        self.rgb_maze = self._to_rgb()\n",
    "        self.start_pos = None\n",
    "        self.exit_pos = None\n",
    "        self.current_pos = None\n",
    "\n",
    "    def _to_rgb(self):\n",
    "        \"\"\"Convert the maze layout to an RGB image.\"\"\"\n",
    "        rgb = np.zeros((*self.layout.shape, 3))  # Create a new RGB array\n",
    "        for i in range(3):  # Copy the grayscale values into each RGB channel\n",
    "            rgb[:, :, i] = 1 - self.layout\n",
    "        return rgb\n",
    "\n",
    "    def initialPosition(self, row, col):\n",
    "        \"\"\"Set the initial position in the maze.\"\"\"\n",
    "        if self.layout[row, col] == 0:\n",
    "            self.start_pos = (row, col)\n",
    "            self.current_pos = (row, col)\n",
    "            self.set_point(row, col, [0, 0, 1])  # Mark initial position with blue\n",
    "        else:\n",
    "            print(\"Invalid initial position: It is on a wall.\")\n",
    "\n",
    "    def setExit(self, row, col):\n",
    "        \"\"\"Set the exit position in the maze.\"\"\"\n",
    "        if self.layout[row, col] == 0:\n",
    "            self.exit_pos = (row, col)\n",
    "            self.set_point(row, col, [0, 1, 0])  # Mark exit position with green\n",
    "        else:\n",
    "            print(\"Invalid exit position: It is on a wall.\")\n",
    "\n",
    "    def set_point(self, row, col, color):\n",
    "        \"\"\"Set a specific point in the maze to a given color.\"\"\"\n",
    "        self.rgb_maze[row, col] = color\n",
    "\n",
    "    def makeMove(self, direction):\n",
    "        \"\"\"Attempt to move in the specified direction.\"\"\"\n",
    "        if self.current_pos is None:\n",
    "            print(\"Initial position not set.\")\n",
    "            return 0\n",
    "\n",
    "        row, col = self.current_pos\n",
    "        if direction == \"up\":\n",
    "            new_pos = (row - 1, col)\n",
    "        elif direction == \"down\":\n",
    "            new_pos = (row + 1, col)\n",
    "        elif direction == \"left\":\n",
    "            new_pos = (row, col - 1)\n",
    "        elif direction == \"right\":\n",
    "            new_pos = (row, col + 1)\n",
    "        else:\n",
    "            print(\"Invalid direction.\")\n",
    "            return 0\n",
    "\n",
    "        if self.isValidMove(new_pos):\n",
    "            self.current_pos = new_pos\n",
    "            self.set_point(*self.start_pos, [1 - self.layout[self.start_pos]])  # Reset start position color\n",
    "            self.start_pos = new_pos\n",
    "            self.set_point(*new_pos, [0, 0, 1])  # Mark new position with blue\n",
    "            if self.current_pos == self.exit_pos:\n",
    "                # print(\"Success! You've found the way out.\")\n",
    "                return 1\n",
    "        # else:\n",
    "        #    print(\"Invalid move: Can't move through walls or out of bounds.\")\n",
    "\n",
    "    def isValidMove(self, pos):\n",
    "        \"\"\"Check if a move is valid (within bounds and not through walls).\"\"\"\n",
    "        row, col = pos\n",
    "        if 0 <= row < self.layout.shape[0] and 0 <= col < self.layout.shape[1]:\n",
    "            return self.layout[row, col] == 0\n",
    "        return False\n",
    "\n",
    "    def plot(self):\n",
    "        \"\"\"Plot the maze.\"\"\"\n",
    "        plt.figure(figsize=(7, 7))\n",
    "        plt.imshow(self.rgb_maze, interpolation='nearest')\n",
    "        plt.xticks([]), plt.yticks([])  # Hide axes ticks\n",
    "        plt.show()"
   ],
   "metadata": {
    "collapsed": false
   }
  },
  {
   "cell_type": "code",
   "execution_count": 22,
   "outputs": [
    {
     "data": {
      "text/plain": "<Figure size 700x700 with 1 Axes>",
      "image/png": "[encoded data removed]"
     },
     "metadata": {},
     "output_type": "display_data"
    }
   ],
   "source": [
    "# Create an instance of MazeGame\n",
    "maze_game = MazeGame()\n",
    "\n",
    "# Set the initial and exit positions\n",
    "maze_game.initialPosition(3, 3)\n",
    "maze_game.setExit(5, 6)\n",
    "maze_game.plot()"
   ],
   "metadata": {
    "collapsed": false
   }
  },
  {
   "cell_type": "code",
   "execution_count": 23,
   "outputs": [],
   "source": [
    "class ModelBasedAgent:\n",
    "    def __init__(self, game, gamma=0.99):\n",
    "        self.game = game\n",
    "        self.gamma = gamma  # Discount factor\n",
    "        # Initialize the value function for all states to zero\n",
    "        self.values = np.zeros(game.layout.shape)\n",
    "        self.policy = np.full(game.layout.shape, 'hold', dtype=object)\n",
    "        self.actions = ['up', 'down', 'left', 'right']\n",
    "\n",
    "    def update_values(self, iterations=100):\n",
    "        for _ in range(iterations):\n",
    "            new_values = np.copy(self.values)\n",
    "            for row in range(self.game.layout.shape[0]):\n",
    "                for col in range(self.game.layout.shape[1]):\n",
    "                    if self.game.layout[row, col] == 0:  # Only update for navigable cells\n",
    "                        state_value = []\n",
    "                        for action in self.actions:\n",
    "                            new_pos = self.predict_move((row, col), action)\n",
    "                            reward = self.predict_reward((row, col), new_pos)\n",
    "                            state_value.append(reward + self.gamma * self.values[new_pos])\n",
    "                        best_action_value = max(state_value)\n",
    "                        new_values[row, col] = best_action_value\n",
    "                        self.policy[row, col] = self.actions[state_value.index(best_action_value)]\n",
    "            self.values = new_values\n",
    "\n",
    "    def predict_move(self, pos, action):\n",
    "        if action == \"up\":\n",
    "            new_pos = (max(0, pos[0]-1), pos[1])\n",
    "        elif action == \"down\":\n",
    "            new_pos = (min(self.game.layout.shape[0]-1, pos[0]+1), pos[1])\n",
    "        elif action == \"left\":\n",
    "            new_pos = (pos[0], max(0, pos[1]-1))\n",
    "        elif action == \"right\":\n",
    "            new_pos = (pos[0], min(self.game.layout.shape[1]-1, pos[1]+1))\n",
    "        return new_pos if self.game.layout[new_pos] == 0 else pos\n",
    "\n",
    "    def predict_reward(self, pos, new_pos):\n",
    "        if new_pos == self.game.exit_pos:\n",
    "            return 100  # Large reward for reaching the exit\n",
    "        elif new_pos == pos:\n",
    "            return -5  # Penalty for hitting a wall\n",
    "        else:\n",
    "            return -1  # Small penalty for each move to encourage shortest path\n",
    "\n",
    "    def run_policy(self):\n",
    "        print(\"Running policy...\")\n",
    "        current_pos = self.game.current_pos\n",
    "        steps = 0\n",
    "        while current_pos != self.game.exit_pos:\n",
    "            action = self.policy[current_pos]\n",
    "            print(f\"Step {steps}: at {current_pos} taking action {action}\")\n",
    "            self.game.makeMove(action)\n",
    "            current_pos = self.game.current_pos\n",
    "            steps += 1\n",
    "            if steps > 50:  # Just in case something goes wrong\n",
    "                print(\"Something went wrong. Stopping after 50 steps.\")\n",
    "                break\n",
    "\n",
    "    def update_game(self, new_game):\n",
    "        self.game = new_game"
   ],
   "metadata": {
    "collapsed": false
   }
  },
  {
   "cell_type": "code",
   "execution_count": 24,
   "outputs": [
    {
     "data": {
      "text/plain": "<Figure size 700x700 with 1 Axes>",
      "image/png": "[encoded data removed]"
     },
     "metadata": {},
     "output_type": "display_data"
    }
   ],
   "source": [
    "# Set the initial and exit positions\n",
    "maze_game.initialPosition(3, 3)\n",
    "maze_game.setExit(5, 6)\n",
    "maze_game.plot()"
   ],
   "metadata": {
    "collapsed": false
   }
  },
  {
   "cell_type": "code",
   "execution_count": 25,
   "outputs": [
    {
     "name": "stdout",
     "output_type": "stream",
     "text": [
      "Running policy...\n",
      "Step 0: at (3, 3) taking action right\n",
      "Step 1: at (3, 4) taking action right\n",
      "Step 2: at (3, 5) taking action up\n",
      "Step 3: at (2, 5) taking action up\n",
      "Step 4: at (1, 5) taking action left\n",
      "Step 5: at (1, 4) taking action left\n",
      "Step 6: at (1, 3) taking action left\n",
      "Step 7: at (1, 2) taking action left\n",
      "Step 8: at (1, 1) taking action down\n",
      "Step 9: at (2, 1) taking action down\n",
      "Step 10: at (3, 1) taking action down\n",
      "Step 11: at (4, 1) taking action down\n",
      "Step 12: at (5, 1) taking action right\n",
      "Step 13: at (5, 2) taking action right\n",
      "Step 14: at (5, 3) taking action right\n",
      "Step 15: at (5, 4) taking action right\n",
      "Step 16: at (5, 5) taking action right\n"
     ]
    }
   ],
   "source": [
    "# Initialize the model-based agent with the maze game and update its values\n",
    "model_based_agent = ModelBasedAgent(maze_game)\n",
    "model_based_agent.update_values(100)  # Perform value iteration\n",
    "\n",
    "# Now, run the agent's policy to see how it navigates the maze\n",
    "model_based_agent.run_policy()"
   ],
   "metadata": {
    "collapsed": false
   }
  },
  {
   "cell_type": "code",
   "execution_count": 26,
   "outputs": [
    {
     "data": {
      "text/plain": "<Figure size 700x700 with 1 Axes>",
      "image/png": "[encoded data removed]"
     },
     "metadata": {},
     "output_type": "display_data"
    }
   ],
   "source": [
    "# Set the initial and exit positions\n",
    "maze_game.initialPosition(5, 6)\n",
    "maze_game.setExit(3, 3)\n",
    "maze_game.plot()"
   ],
   "metadata": {
    "collapsed": false
   }
  },
  {
   "cell_type": "code",
   "execution_count": 26,
   "outputs": [],
   "source": [],
   "metadata": {
    "collapsed": false
   }
  },
  {
   "cell_type": "code",
   "execution_count": 27,
   "outputs": [],
   "source": [
    "model_based_agent.update_game(maze_game)"
   ],
   "metadata": {
    "collapsed": false
   }
  },
  {
   "cell_type": "code",
   "execution_count": 28,
   "outputs": [
    {
     "name": "stdout",
     "output_type": "stream",
     "text": [
      "Running policy...\n",
      "Step 0: at (5, 6) taking action up\n",
      "Step 1: at (5, 6) taking action up\n",
      "Step 2: at (5, 6) taking action up\n",
      "Step 3: at (5, 6) taking action up\n",
      "Step 4: at (5, 6) taking action up\n",
      "Step 5: at (5, 6) taking action up\n",
      "Step 6: at (5, 6) taking action up\n",
      "Step 7: at (5, 6) taking action up\n",
      "Step 8: at (5, 6) taking action up\n",
      "Step 9: at (5, 6) taking action up\n",
      "Step 10: at (5, 6) taking action up\n",
      "Step 11: at (5, 6) taking action up\n",
      "Step 12: at (5, 6) taking action up\n",
      "Step 13: at (5, 6) taking action up\n",
      "Step 14: at (5, 6) taking action up\n",
      "Step 15: at (5, 6) taking action up\n",
      "Step 16: at (5, 6) taking action up\n",
      "Step 17: at (5, 6) taking action up\n",
      "Step 18: at (5, 6) taking action up\n",
      "Step 19: at (5, 6) taking action up\n",
      "Step 20: at (5, 6) taking action up\n",
      "Step 21: at (5, 6) taking action up\n",
      "Step 22: at (5, 6) taking action up\n",
      "Step 23: at (5, 6) taking action up\n",
      "Step 24: at (5, 6) taking action up\n",
      "Step 25: at (5, 6) taking action up\n",
      "Step 26: at (5, 6) taking action up\n",
      "Step 27: at (5, 6) taking action up\n",
      "Step 28: at (5, 6) taking action up\n",
      "Step 29: at (5, 6) taking action up\n",
      "Step 30: at (5, 6) taking action up\n",
      "Step 31: at (5, 6) taking action up\n",
      "Step 32: at (5, 6) taking action up\n",
      "Step 33: at (5, 6) taking action up\n",
      "Step 34: at (5, 6) taking action up\n",
      "Step 35: at (5, 6) taking action up\n",
      "Step 36: at (5, 6) taking action up\n",
      "Step 37: at (5, 6) taking action up\n",
      "Step 38: at (5, 6) taking action up\n",
      "Step 39: at (5, 6) taking action up\n",
      "Step 40: at (5, 6) taking action up\n",
      "Step 41: at (5, 6) taking action up\n",
      "Step 42: at (5, 6) taking action up\n",
      "Step 43: at (5, 6) taking action up\n",
      "Step 44: at (5, 6) taking action up\n",
      "Step 45: at (5, 6) taking action up\n",
      "Step 46: at (5, 6) taking action up\n",
      "Step 47: at (5, 6) taking action up\n",
      "Step 48: at (5, 6) taking action up\n",
      "Step 49: at (5, 6) taking action up\n",
      "Step 50: at (5, 6) taking action up\n",
      "Something went wrong. Stopping after 50 steps.\n"
     ]
    }
   ],
   "source": [
    "model_based_agent.run_policy()"
   ],
   "metadata": {
    "collapsed": false
   }
  },
  {
   "cell_type": "code",
   "execution_count": null,
   "outputs": [],
   "source": [],
   "metadata": {
    "collapsed": false
   }
  }
 ],
 "metadata": {
  "kernelspec": {
   "display_name": "Python 3",
   "language": "python",
   "name": "python3"
  },
  "language_info": {
   "codemirror_mode": {
    "name": "ipython",
    "version": 2
   },
   "file_extension": ".py",
   "mimetype": "text/x-python",
   "name": "python",
   "nbconvert_exporter": "python",
   "pygments_lexer": "ipython2",
   "version": "2.7.6"
  }
 },
 "nbformat": 4,
 "nbformat_minor": 0
}
