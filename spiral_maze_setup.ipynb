{
 "cells": [
  {
   "cell_type": "code",
   "execution_count": 36,
   "metadata": {
    "collapsed": true
   },
   "outputs": [
    {
     "name": "stderr",
     "output_type": "stream",
     "text": [
      "Clipping input data to the valid range for imshow with RGB data ([0..1] for floats or [0..255] for integers).\n"
     ]
    },
    {
     "data": {
      "text/plain": "<Figure size 700x700 with 1 Axes>",
      "image/png": "[encoded data removed]"
     },
     "metadata": {},
     "output_type": "display_data"
    }
   ],
   "source": [
    "import matplotlib.pyplot as plt\n",
    "import numpy as np\n",
    "# Define the maze\n",
    "maze = [[1, 1, 1, 1, 1, 1, 1],\n",
    "        [1, 0, 0, 0, 0, 0, 1],\n",
    "        [1, 0, 1, 1, 1, 0, 1],\n",
    "        [1, 0, 1, 0, 0, 0, 1],\n",
    "        [1, 0, 1, 1, 1, 1, 1],\n",
    "        [1, 0, 0, 0, 0, 0, 0],\n",
    "        [1, 1, 1, 1, 1, 1, 1]]\n",
    "# Convert the maze to a numpy array for plotting\n",
    "maze_array = np.array(maze)\n",
    "# Inverting the maze colors for a black background\n",
    "# Convert the maze to an RGB format if it isn't already\n",
    "if maze_array.ndim == 2:  # If the array is 2D (grayscale), convert to 3D (RGB)\n",
    "    maze_rgb = np.zeros((*maze_array.shape, 3))  # Create a new RGB array\n",
    "    for i in range(3):  # Copy the grayscale values into each RGB channel\n",
    "        maze_rgb[:, :, i] = maze_array\n",
    "else:\n",
    "    maze_rgb = maze_array.copy()  # If it's already RGB, just make a copy\n",
    "\n",
    "# Set the (3,3) pixel to green\n",
    "maze_rgb[3, 3] = [1, 0, 0]  # RGB for green\n",
    "\n",
    "#\n",
    "maze_rgb[5, 6] = [0, 2, 0]  # RGB for green\n",
    "# Plotting\n",
    "plt.figure(figsize=(7, 7))\n",
    "plt.imshow(maze_rgb, interpolation='nearest')\n",
    "plt.xticks([]), plt.yticks([])  # Hide axes ticks\n",
    "plt.show()"
   ]
  },
  {
   "cell_type": "code",
   "execution_count": 3,
   "outputs": [
    {
     "data": {
      "text/plain": "<Figure size 700x700 with 1 Axes>",
      "image/png": "[encoded data removed]"
     },
     "metadata": {},
     "output_type": "display_data"
    }
   ],
   "source": [
    "import matplotlib.pyplot as plt\n",
    "import numpy as np\n",
    "\n",
    "class Maze:\n",
    "    def __init__(self):\n",
    "        \"\"\"Initialize the maze with a given layout.\"\"\"\n",
    "        maze_layout = [[1, 1, 1, 1, 1, 1, 1],\n",
    "               [1, 0, 0, 0, 0, 0, 1],\n",
    "               [1, 0, 1, 1, 1, 0, 1],\n",
    "               [1, 0, 1, 0, 0, 0, 1],\n",
    "               [1, 0, 1, 1, 1, 1, 1],\n",
    "               [1, 0, 0, 0, 0, 0, 0],\n",
    "               [1, 1, 1, 1, 1, 1, 1]]\n",
    "        self.layout = np.array(maze_layout)\n",
    "        self.rgb_maze = self._to_rgb()\n",
    "\n",
    "    def _to_rgb(self):\n",
    "        \"\"\"Convert the maze layout to an RGB image.\"\"\"\n",
    "        if self.layout.ndim == 2:  # If the layout is 2D (grayscale), convert to 3D (RGB)\n",
    "            rgb = np.zeros((*self.layout.shape, 3))  # Create a new RGB array\n",
    "            for i in range(3):  # Copy the grayscale values into each RGB channel\n",
    "                # Inverting colors: 1 becomes black, 0 becomes white\n",
    "                rgb[:, :, i] = 1 - self.layout\n",
    "            return rgb\n",
    "        else:\n",
    "            return self.layout.copy()  # If it's already RGB, just make a copy\n",
    "\n",
    "    def set_point(self, row, col, color):\n",
    "        \"\"\"Set a specific point in the maze to a given color.\"\"\"\n",
    "        if 0 <= row < self.rgb_maze.shape[0] and 0 <= col < self.rgb_maze.shape[1]:\n",
    "            self.rgb_maze[row, col] = color\n",
    "        else:\n",
    "            print(f\"Point ({row}, {col}) is out of the maze bounds.\")\n",
    "\n",
    "    def plot(self):\n",
    "        \"\"\"Plot the maze.\"\"\"\n",
    "        plt.figure(figsize=(7, 7))\n",
    "        plt.imshow(self.rgb_maze, interpolation='nearest')\n",
    "        plt.xticks([]), plt.yticks([])  # Hide axes ticks\n",
    "        plt.show()\n",
    "\n",
    "maze = Maze()\n",
    "maze.set_point(3, 3, [1, 0, 0])  # Setting a point to green\n",
    "maze.set_point(5, 6, [0, 1, 0])  # Another point to green, correctly this time\n",
    "maze.plot()"
   ],
   "metadata": {
    "collapsed": false
   }
  },
  {
   "cell_type": "code",
   "execution_count": 5,
   "outputs": [
    {
     "data": {
      "text/plain": "<bound method MazeGame.make_move of <__main__.MazeGame object at 0x153c0be50>>"
     },
     "execution_count": 5,
     "metadata": {},
     "output_type": "execute_result"
    }
   ],
   "source": [
    "class MazeGame:\n",
    "    def __init__(self, layout):\n",
    "        \"\"\"Initialize the maze game with a given layout.\"\"\"\n",
    "        self.layout = np.array(layout)\n",
    "        self.rgb_maze = self._to_rgb()\n",
    "        self.position = None  # Initial position will be set separately\n",
    "\n",
    "    def _to_rgb(self):\n",
    "        \"\"\"Convert the maze layout to an RGB image.\"\"\"\n",
    "        rgb = np.zeros((*self.layout.shape, 3))  # Create a new RGB array\n",
    "        for i in range(3):\n",
    "            rgb[:, :, i] = 1 - self.layout  # Invert colors: 1 becomes black, 0 becomes white\n",
    "        return rgb\n",
    "\n",
    "    def set_initial_position(self, row, col):\n",
    "        \"\"\"Set the initial position of the player.\"\"\"\n",
    "        if self.layout[row, col] == 0:  # Ensure initial position is not a wall\n",
    "            self.position = (row, col)\n",
    "            self.set_point(row, col, [0, 0, 1])  # Mark initial position with blue\n",
    "        else:\n",
    "            print(\"Invalid initial position. It's either outside the maze or a wall.\")\n",
    "\n",
    "    def set_point(self, row, col, color):\n",
    "        \"\"\"Set a specific point in the maze to a given color.\"\"\"\n",
    "        self.rgb_maze[row, col] = color\n",
    "\n",
    "    def make_move(self, direction):\n",
    "        \"\"\"Move the player in the specified direction if possible.\"\"\"\n",
    "        if self.position is None:\n",
    "            print(\"Initial position is not set.\")\n",
    "            return False\n",
    "\n",
    "        moves = {'up': (-1, 0), 'down': (1, 0), 'left': (0, -1), 'right': (0, 1)}\n",
    "        if direction in moves:\n",
    "            delta_row, delta_col = moves[direction]\n",
    "            new_position = (self.position[0] + delta_row, self.position[1] + delta_col)\n",
    "            if self._is_valid_move(*new_position):\n",
    "                self._update_position(*new_position)\n",
    "                return True\n",
    "            else:\n",
    "                print(\"Move not allowed.\")\n",
    "                return False\n",
    "        else:\n",
    "            print(\"Invalid direction.\")\n",
    "            return False\n",
    "\n",
    "    def _is_valid_move(self, row, col):\n",
    "        \"\"\"Check if the new position is a valid move.\"\"\"\n",
    "        if (0 <= row < self.layout.shape[0]) and (0 <= col < self.layout.shape[1]):\n",
    "            return self.layout[row, col] == 0\n",
    "        return False\n",
    "\n",
    "    def _update_position(self, row, col):\n",
    "        \"\"\"Update the player's position on the maze.\"\"\"\n",
    "        self.set_point(*self.position, [1, 1, 1])  # Reset current position to white\n",
    "        self.position = (row, col)\n",
    "        self.set_point(row, col, [0, 0, 1])  # Mark new position with blue\n",
    "\n",
    "    def success_out(self):\n",
    "        \"\"\"Check if the player has reached the border (success condition).\"\"\"\n",
    "        row, col = self.position\n",
    "        if row == 0 or row == self.layout.shape[0] - 1 or col == 0 or col == self.layout.shape[1] - 1:\n",
    "            print(\"Success! You've reached the border.\")\n",
    "            return True\n",
    "        return False\n",
    "\n",
    "    def plot(self):\n",
    "        \"\"\"Plot the maze with the current player position.\"\"\"\n",
    "        plt.figure(figsize=(7, 7))\n",
    "        plt.imshow(self.rgb_maze, interpolation='nearest')\n",
    "        plt.xticks([]), plt.yticks([])  # Hide axes ticks\n",
    "        plt.show()\n",
    "\n",
    "# Example usage\n",
    "maze_layout = [[1, 1, 1, 1, 1, 1, 1],\n",
    "               [1, 0, 0, 0, 0, 0, 1],\n",
    "               [1, 0, 1, 1, 1, 0, 1],\n",
    "               [1, 0, 1, 0, 0, 0, 1],\n",
    "               [1, 0, 1, 1, 1, 1, 1],\n",
    "               [1, 0, 0, 0, 0, 0, 0],\n",
    "               [1, 1, 1, 1, 1, 1, 1]]\n",
    "\n",
    "game = MazeGame(maze_layout)\n",
    "game.set_initial_position(5, 1)  # Starting point\n",
    "game.make_move\n"
   ],
   "metadata": {
    "collapsed": false
   }
  },
  {
   "cell_type": "code",
   "execution_count": null,
   "outputs": [],
   "source": [],
   "metadata": {
    "collapsed": false
   }
  }
 ],
 "metadata": {
  "kernelspec": {
   "display_name": "Python 3",
   "language": "python",
   "name": "python3"
  },
  "language_info": {
   "codemirror_mode": {
    "name": "ipython",
    "version": 2
   },
   "file_extension": ".py",
   "mimetype": "text/x-python",
   "name": "python",
   "nbconvert_exporter": "python",
   "pygments_lexer": "ipython2",
   "version": "2.7.6"
  }
 },
 "nbformat": 4,
 "nbformat_minor": 0
}
