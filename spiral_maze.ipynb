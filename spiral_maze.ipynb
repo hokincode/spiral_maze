{
 "cells": [
  {
   "cell_type": "code",
   "execution_count": 36,
   "metadata": {
    "collapsed": true
   },
   "outputs": [
    {
     "name": "stderr",
     "output_type": "stream",
     "text": [
      "Clipping input data to the valid range for imshow with RGB data ([0..1] for floats or [0..255] for integers).\n"
     ]
    },
    {
     "data": {
      "text/plain": "<Figure size 700x700 with 1 Axes>",
      "image/png": "[encoded data removed]"
     },
     "metadata": {},
     "output_type": "display_data"
    }
   ],
   "source": [
    "import matplotlib.pyplot as plt\n",
    "import numpy as np\n",
    "# Define the maze\n",
    "maze = [[1, 1, 1, 1, 1, 1, 1],\n",
    "        [1, 0, 0, 0, 0, 0, 1],\n",
    "        [1, 0, 1, 1, 1, 0, 1],\n",
    "        [1, 0, 1, 0, 0, 0, 1],\n",
    "        [1, 0, 1, 1, 1, 1, 1],\n",
    "        [1, 0, 0, 0, 0, 0, 0],\n",
    "        [1, 1, 1, 1, 1, 1, 1]]\n",
    "# Convert the maze to a numpy array for plotting\n",
    "maze_array = np.array(maze)\n",
    "# Inverting the maze colors for a black background\n",
    "# Convert the maze to an RGB format if it isn't already\n",
    "if maze_array.ndim == 2:  # If the array is 2D (grayscale), convert to 3D (RGB)\n",
    "    maze_rgb = np.zeros((*maze_array.shape, 3))  # Create a new RGB array\n",
    "    for i in range(3):  # Copy the grayscale values into each RGB channel\n",
    "        maze_rgb[:, :, i] = maze_array\n",
    "else:\n",
    "    maze_rgb = maze_array.copy()  # If it's already RGB, just make a copy\n",
    "\n",
    "# Set the (3,3) pixel to green\n",
    "maze_rgb[3, 3] = [1, 0, 0]  # RGB for green\n",
    "\n",
    "#\n",
    "maze_rgb[5, 6] = [0, 2, 0]  # RGB for green\n",
    "# Plotting\n",
    "plt.figure(figsize=(7, 7))\n",
    "plt.imshow(maze_rgb, interpolation='nearest')\n",
    "plt.xticks([]), plt.yticks([])  # Hide axes ticks\n",
    "plt.show()"
   ]
  },
  {
   "cell_type": "code",
   "execution_count": 25,
   "outputs": [],
   "source": [],
   "metadata": {
    "collapsed": false
   }
  },
  {
   "cell_type": "code",
   "execution_count": 2,
   "outputs": [],
   "source": [],
   "metadata": {
    "collapsed": false
   }
  }
 ],
 "metadata": {
  "kernelspec": {
   "display_name": "Python 3",
   "language": "python",
   "name": "python3"
  },
  "language_info": {
   "codemirror_mode": {
    "name": "ipython",
    "version": 2
   },
   "file_extension": ".py",
   "mimetype": "text/x-python",
   "name": "python",
   "nbconvert_exporter": "python",
   "pygments_lexer": "ipython2",
   "version": "2.7.6"
  }
 },
 "nbformat": 4,
 "nbformat_minor": 0
}
